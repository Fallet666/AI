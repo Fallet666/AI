{
 "cells": [
  {
   "cell_type": "markdown",
   "source": [
    "Выполните по вариантам соответственно реализацию генетического\n",
    "алгоритма в соответствии с приложенными начальными данными."
   ],
   "metadata": {
    "collapsed": false
   },
   "id": "a3b8752279665f2"
  },
  {
   "cell_type": "code",
   "outputs": [
    {
     "name": "stdout",
     "output_type": "stream",
     "text": [
      "max_1_step: -1.7142857142857144\n",
      "max_2_step: 2.5833333333333335\n",
      "max_3_step: 5.085714285714285\n",
      "max_4_step: 7.833333333333334\n",
      "max Z:2.3333333333333335\n"
     ]
    }
   ],
   "source": [
    "def qZ(x,y):\n",
    "    if (3*x^2+y^2+1)==0:\n",
    "        return -1\n",
    "    return (x-3*y+1)/(3*x^2+y^2+1)\n",
    "X = [-2, -1, 0, 2]\n",
    "Y = [-2, -1, -1,1]\n",
    "def qSumZ(Z):\n",
    "    return sum(Z)\n",
    "def exchangeScheme(oldX, oldY, sortedId):\n",
    "    X = [0 for i in range(4)]\n",
    "    Y = [0 for i in range(4)]\n",
    "    X[2] = oldX[sortedId[2]]\n",
    "    X[3] = oldX[sortedId[2]]\n",
    "    X[0] = oldX[sortedId[0]]\n",
    "    X[1] = oldX[sortedId[1]]\n",
    "    Y[0] = oldY[sortedId[2]]\n",
    "    Y[1] = oldY[sortedId[2]]\n",
    "    Y[2] = oldY[sortedId[0]]\n",
    "    Y[3] = oldY[sortedId[1]]\n",
    "    return X, Y\n",
    "def sorting(Z):\n",
    "    sortedId  = sorted(range(len(Z)), key= lambda i: Z[i])\n",
    "    return sortedId\n",
    "\n",
    "def evoStep(X, Y, Z):\n",
    "    _, minId = min((value, id) for (id, value) in enumerate(Z))\n",
    "    X = X[:]\n",
    "    Y = Y[:]\n",
    "    Z = Z[:]\n",
    "    X.pop(minId)\n",
    "    Y. pop(minId)\n",
    "    Z.pop(minId)\n",
    "    return X, Y, Z\n",
    "def evoSteps(X, Y, stepsNum = 4) :\n",
    "    results = []\n",
    "    for i in range(stepsNum):\n",
    "        arrz = [qZ(x, Y[i]) for i, x in enumerate(X)]\n",
    "        X, Y, Z = evoStep(X, Y, arrz)\n",
    "        X, Y = exchangeScheme(X, Y, sorting(Z))\n",
    "        results.append([X, Y, qSumZ(arrz), arrz])\n",
    "    return X, Y, results\n",
    "results = evoSteps(X, Y)\n",
    "for i in range(len(results[2])):\n",
    "    print(f'max_{i + 1}_step: {results[2][i][2]}')\n",
    "qualityArrZ = []\n",
    "for i in range(len(results[2])):\n",
    "    qualityArrZ += results[2][i][3]\n",
    "print(f'max Z:{max(qualityArrZ)}')"
   ],
   "metadata": {
    "collapsed": false,
    "ExecuteTime": {
     "end_time": "2024-04-17T14:38:41.015076Z",
     "start_time": "2024-04-17T14:38:41.003498Z"
    }
   },
   "id": "a9ce160f971187d",
   "execution_count": 11
  },
  {
   "cell_type": "markdown",
   "source": [
    "Найти длину гамильтонова цикла S4 в полном графе K6 после четырех\n",
    "циклов решения задачи методом отжига по вариантам ниже."
   ],
   "metadata": {
    "collapsed": false
   },
   "id": "6689130f2703f836"
  },
  {
   "cell_type": "code",
   "outputs": [
    {
     "name": "stdout",
     "output_type": "stream",
     "text": [
      "Лучший выбранный маршрут: [1, 5, 4, 3, 2, 6, 1]\n",
      "Длина лучшего выбранного маршрута: 133\n",
      "Длины всех рассмотренных маршрутов: [141, 156, 158, 148, 133]\n"
     ]
    },
    {
     "data": {
      "text/plain": "<Figure size 640x480 with 1 Axes>",
      "image/png": "[encoded data removed]"
     },
     "metadata": {},
     "output_type": "display_data"
    }
   ],
   "source": [
    "import networkx as nx\n",
    "from math import e\n",
    "distances = [(1,2,18),(1,3 ,41 ),(1, 4, 36),(1 ,5 ,29 ),( 1, 6, 19),( 2,3 ,27 ),(2,4,31),(2,5,37),(2,6,15),(3,4,19),(3,5,42),(3,6,23),(4,5,24),(4,6,17),(5,6,24)]\n",
    "V = [1,3,4,5,6,2,1]\n",
    "Z  = [(4,5),(5,6),(2,4),(6,2)]\n",
    "P = [78,24,63,17]\n",
    "T = 100\n",
    "def probability(delta, T):\n",
    "    return 100* e**(-1*delta/T)\n",
    "def reductTemp(prevT):\n",
    "    return 0.5*prevT\n",
    "# graph = nx.Graph()\n",
    "# graph.add_weighted_edges_from(distances)\n",
    "# nx.draw_kamada_kawai(graph, with_labels=True)\n",
    "def edgeLength(i,j,distances,roundTrip = True):\n",
    "    if roundTrip:\n",
    "        return max([(item[2] if (item[0] == i and item[1] == j) or (item[1] == i and item[0] == j) else -1)\n",
    "                    for item in distances])\n",
    "    else:\n",
    "        return max([(item[2] if (item[0] == i and item[1] == j) else -1) for item in distances])\n",
    "def routeLength(V,distances):\n",
    "    edges = []\n",
    "    for i in range(len(V)-1):\n",
    "        edges.append(edgeLength(V[i],V[i+1],distances))\n",
    "    return sum(edges)\n",
    "def routeOneReplacement(arrV, Z, replacementByName=True):\n",
    "    decrement = 1 if replacementByName else 0\n",
    "    if arrV.index(Z[0]) > arrV.index(Z[1]):\n",
    "        Z = (Z[1], Z[0])\n",
    "    arrV[Z[0] - decrement], arrV[Z[1] - decrement] = arrV[Z[1] - decrement], arrV[Z[0] - decrement]\n",
    "    return arrV\n",
    "\n",
    "def routeReplacement(V, Z) :\n",
    "    for z in Z:\n",
    "        V = routeOneReplacement(V, z)\n",
    "    return V\n",
    "def chooseRoute(distances, V, Z, T, P):\n",
    "    sumLength = routeLength(V, distances) \n",
    "    arrSum = [sumLength] \n",
    "    for i in range(len(Z)):\n",
    "        newV = routeOneReplacement(V[:], Z[i])\n",
    "        newS = routeLength(newV, distances)\n",
    "        arrSum.append(newS)\n",
    "        deltaS = newS - sumLength\n",
    "        if deltaS > 0:\n",
    "            p = probability(deltaS, T)\n",
    "            if p > P[i]:\n",
    "                V = newV\n",
    "                sumLength = newS\n",
    "        else:\n",
    "            V = newV\n",
    "            sumLength = newS\n",
    "        T = reductTemp(T)\n",
    "    return V, arrSum\n",
    "def drawRouteGraph(distances, bestRoute) :\n",
    "    newDistances = []\n",
    "    for i in range(len(bestRoute) - 1): \n",
    "        for distance in distances:\n",
    "            if distance[0] == bestRoute[i] and distance[1] == bestRoute[i + 1] or distance[1] == bestRoute[i] and distance[0] == bestRoute[i + 1]:\n",
    "                newDistances.append (distance)\n",
    "    graph = nx.Graph()\n",
    "    graph.add_weighted_edges_from(newDistances)\n",
    "    nx.draw_kamada_kawai(graph, node_size = 1500, with_labels = True)\n",
    "bestRoute, arrLength = chooseRoute(distances, V, Z, T, P)\n",
    "print(f'Лучший выбранный маршрут: {bestRoute}')\n",
    "print(f'Длина лучшего выбранного маршрута: {routeLength(bestRoute, distances)}')\n",
    "print(f'Длины всех рассмотренных маршрутов: {arrLength}')\n",
    "drawRouteGraph(distances, bestRoute)"
   ],
   "metadata": {
    "collapsed": false,
    "ExecuteTime": {
     "end_time": "2024-04-17T20:03:26.621078Z",
     "start_time": "2024-04-17T20:03:26.475270Z"
    }
   },
   "id": "de3b11a7b4ae9d2c",
   "execution_count": 29
  },
  {
   "cell_type": "markdown",
   "source": [
    "На решенном уже примере поэкспериментируйте с показателем S,\n",
    "проанализируйте результаты."
   ],
   "metadata": {
    "collapsed": false
   },
   "id": "444a944cce87e1b0"
  },
  {
   "cell_type": "code",
   "outputs": [
    {
     "name": "stdout",
     "output_type": "stream",
     "text": [
      "Для S = 10:\n",
      "Лучший выбранный маршрут: [1, 5, 4, 3, 2, 6, 1]\n",
      "Длина лучшего выбранного маршрута: 133\n",
      "Длины всех рассмотренных маршрутов: [141, 156, 158, 148, 133]\n",
      "---------------------------------------\n",
      "Для S = 50:\n",
      "Лучший выбранный маршрут: [1, 5, 4, 3, 2, 6, 1]\n",
      "Длина лучшего выбранного маршрута: 133\n",
      "Длины всех рассмотренных маршрутов: [141, 156, 158, 148, 133]\n",
      "---------------------------------------\n",
      "Для S = 20:\n",
      "Лучший выбранный маршрут: [1, 5, 4, 3, 2, 6, 1]\n",
      "Длина лучшего выбранного маршрута: 133\n",
      "Длины всех рассмотренных маршрутов: [141, 156, 158, 148, 133]\n",
      "---------------------------------------\n"
     ]
    }
   ],
   "source": [
    "import networkx as nx\n",
    "from math import e\n",
    "distances = [(1,2,18),(1,3 ,41 ),(1, 4, 36),(1 ,5 ,29 ),( 1, 6, 19),( 2,3 ,27 ),(2,4,31),(2,5,37),(2,6,15),(3,4,19),(3,5,42),(3,6,23),(4,5,24),(4,6,17),(5,6,24)]\n",
    "V = [1,3,4,5,6,2,1]\n",
    "Z  = [(4,5),(5,6),(2,4),(6,2)]\n",
    "P = [78,24,63,17]\n",
    "T = 100\n",
    "def probability(delta, T):\n",
    "    return 100* e**(-1*delta/T)\n",
    "def reductTemp(prevT):\n",
    "    return 0.5*prevT\n",
    "# graph = nx.Graph()\n",
    "# graph.add_weighted_edges_from(distances)\n",
    "# nx.draw_kamada_kawai(graph, with_labels=True)\n",
    "def edgeLength(i,j,distances,roundTrip = True):\n",
    "    if roundTrip:\n",
    "        return max([(item[2] if (item[0] == i and item[1] == j) or (item[1] == i and item[0] == j) else -1)\n",
    "                    for item in distances])\n",
    "    else:\n",
    "        return max([(item[2] if (item[0] == i and item[1] == j) else -1) for item in distances])\n",
    "def routeLength(V,distances):\n",
    "    edges = []\n",
    "    for i in range(len(V)-1):\n",
    "        edges.append(edgeLength(V[i],V[i+1],distances))\n",
    "    return sum(edges)\n",
    "def routeOneReplacement(arrV, Z, replacementByName=True):\n",
    "    decrement = 1 if replacementByName else 0\n",
    "    if arrV.index(Z[0]) > arrV.index(Z[1]):\n",
    "        Z = (Z[1], Z[0])\n",
    "    arrV[Z[0] - decrement], arrV[Z[1] - decrement] = arrV[Z[1] - decrement], arrV[Z[0] - decrement]\n",
    "    return arrV\n",
    "\n",
    "def routeReplacement(V, Z) :\n",
    "    for z in Z:\n",
    "        V = routeOneReplacement(V, z)\n",
    "    return V\n",
    "def chooseRoute(distances, V, Z, T, P, S):\n",
    "    sumLength = routeLength(V, distances)\n",
    "    arrSum = [sumLength]\n",
    "    for i in range(len(Z)):\n",
    "        newV = routeOneReplacement(V[:], Z[i])\n",
    "        newS = routeLength(newV, distances)\n",
    "        arrSum.append(newS)\n",
    "        deltaS = newS - sumLength\n",
    "        if deltaS > 0:\n",
    "            p = probability(deltaS, T)\n",
    "            if p > P[i]:\n",
    "                V = newV\n",
    "                sumLength = newS\n",
    "        else:\n",
    "            V = newV\n",
    "            sumLength = newS\n",
    "        T = reductTemp(T)\n",
    "        S = reductTemp(S)  # Уменьшаем значение S\n",
    "    return V, arrSum\n",
    "\n",
    "def drawRouteGraph(distances, bestRoute) :\n",
    "    newDistances = []\n",
    "    for i in range(len(bestRoute) - 1):\n",
    "        for distance in distances:\n",
    "            if distance[0] == bestRoute[i] and distance[1] == bestRoute[i + 1] or distance[1] == bestRoute[i] and distance[0] == bestRoute[i + 1]:\n",
    "                newDistances.append (distance)\n",
    "    graph = nx.Graph()\n",
    "    graph.add_weighted_edges_from(newDistances)\n",
    "    nx.draw_kamada_kawai(graph, node_size = 1500, with_labels = True)\n",
    "\n",
    "S_values = [10, 50, 20]\n",
    "for S in S_values:\n",
    "    bestRoute, arrLength = chooseRoute(distances, V, Z, T, P, S)\n",
    "    print(f'Для S = {S}:')\n",
    "    print(f'Лучший выбранный маршрут: {bestRoute}')\n",
    "    print(f'Длина лучшего выбранного маршрута: {routeLength(bestRoute, distances)}')\n",
    "    print(f'Длины всех рассмотренных маршрутов: {arrLength}')\n",
    "    print('---------------------------------------')"
   ],
   "metadata": {
    "collapsed": false,
    "ExecuteTime": {
     "end_time": "2024-04-17T20:07:30.133292Z",
     "start_time": "2024-04-17T20:07:30.109782Z"
    }
   },
   "id": "74e5e5f84a5ec56d",
   "execution_count": 36
  }
 ],
 "metadata": {
  "kernelspec": {
   "display_name": "Python 3",
   "language": "python",
   "name": "python3"
  },
  "language_info": {
   "codemirror_mode": {
    "name": "ipython",
    "version": 2
   },
   "file_extension": ".py",
   "mimetype": "text/x-python",
   "name": "python",
   "nbconvert_exporter": "python",
   "pygments_lexer": "ipython2",
   "version": "2.7.6"
  }
 },
 "nbformat": 4,
 "nbformat_minor": 5
}
