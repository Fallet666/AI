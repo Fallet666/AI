{
 "cells": [
  {
   "cell_type": "markdown",
   "source": [
    "Реализовать классы нейросетей по аналогии с классом OurNeuralNetwork.\n",
    "Данные нейросети:\n",
    "− три входа (𝑥1, 𝑥2, 𝑥3);\n",
    "− три нейрона в скрытых слоях (ℎ1, ℎ2, ℎ3);\n",
    "− выход (𝑜1).\n",
    "Нейроны имеют идентичные веса и пороги:\n",
    "− 𝑤 = [0.5, 0.5, 0.5]\n",
    "− 𝑏 = 0\n",
    "Данные нейросети:\n",
    "− два входа (𝑥1, 𝑥2);\n",
    "− два нейрона в скрытых слоях (ℎ1, ℎ2);\n",
    "− два выхода (𝑜1, 𝑜2).\n",
    "Нейроны имеют идентичные веса и пороги:\n",
    "− 𝑤 = [1, 0];\n",
    "− 𝑏 = 1."
   ],
   "metadata": {
    "collapsed": false
   },
   "id": "b307239c1f48c94b"
  },
  {
   "cell_type": "code",
   "outputs": [
    {
     "name": "stdout",
     "output_type": "stream",
     "text": [
      "0.8151036049051821\n",
      "Output 1: 0.8757270529783324\n",
      "Output 2: 0.8757270529783324\n"
     ]
    }
   ],
   "source": [
    "import numpy as np\n",
    "\n",
    "\n",
    "def sigmoid(x):\n",
    "    return 1/(1+np.exp(-x))\n",
    "def sigmoid_derivative(x):\n",
    "    return sigmoid(x) * (1 - sigmoid(x))\n",
    "class Neuron:\n",
    "    def __init__(self, weights, bias):\n",
    "        self.weights = weights\n",
    "        self.bias = bias\n",
    "    def feedforward (self, inputs):\n",
    "        total = np.dot(self.weights, inputs) + self.bias\n",
    "        return sigmoid (total)\n",
    "class NeuralNetwork_1:\n",
    "    def __init__ (self):\n",
    "        weights = np.array([0.5,0.5,0.5])\n",
    "        bias = 0\n",
    "        self.h1 = Neuron(weights, bias)\n",
    "        self.h2 = Neuron(weights, bias)\n",
    "        self.h3 = Neuron(weights, bias)\n",
    "        self.o1 = Neuron(weights, bias)\n",
    "    def feedforward (self, x):\n",
    "        out_h1 = self.h1.feedforward (x)\n",
    "        out_h2 = self.h2.feedforward(x)\n",
    "        out_h3 = self.h3.feedforward(x)\n",
    "        out_o1 = self.o1.feedforward(np.array([out_h1, out_h2,out_h3]))\n",
    "        return out_o1\n",
    "class NeuralNetwork_2:\n",
    "    def __init__(self):\n",
    "        weights = np.array([1, 0])  # Веса для каждого входа\n",
    "        bias = 1  # Порог\n",
    "        self.h1 = Neuron(weights, bias)\n",
    "        self.h2 = Neuron(weights, bias)\n",
    "        self.o1 = Neuron(weights, bias)\n",
    "        self.o2 = Neuron(weights, bias)\n",
    "\n",
    "    def feedforward(self, x):\n",
    "        out_h1 = self.h1.feedforward(x)\n",
    "        out_h2 = self.h2.feedforward(x)\n",
    "        out_o1 = self.o1.feedforward(np.array([out_h1, out_h2]))\n",
    "        out_o2 = self.o2.feedforward(np.array([out_h1, out_h2]))\n",
    "        return out_o1, out_o2\n",
    "network = NeuralNetwork_1()\n",
    "x = np.array([2, 3, 4])\n",
    "print(network.feedforward(x)) \n",
    "network = NeuralNetwork_2()\n",
    "x = np.array([2, 3]) \n",
    "output1, output2 = network.feedforward(x)\n",
    "print(\"Output 1:\", output1)\n",
    "print(\"Output 2:\", output2)"
   ],
   "metadata": {
    "collapsed": false,
    "ExecuteTime": {
     "end_time": "2024-04-18T06:41:37.377853Z",
     "start_time": "2024-04-18T06:41:37.361881Z"
    }
   },
   "id": "4a320fd2c5c88b24",
   "execution_count": 6
  },
  {
   "cell_type": "markdown",
   "source": [
    "Реализуйте классы нейронных сетей с использованием других функций активации."
   ],
   "metadata": {
    "collapsed": false
   },
   "id": "bdbddda572b6d545"
  },
  {
   "cell_type": "code",
   "outputs": [
    {
     "name": "stdout",
     "output_type": "stream",
     "text": [
      "0 - sig, 1 - tanh, 2 - ReLU\n",
      "0 : 0.8151036049051821\n",
      "1 : 0.9050813365686774\n",
      "2 : 6.75\n"
     ]
    }
   ],
   "source": [
    "import numpy as np\n",
    "\n",
    "\n",
    "def act_func(x):\n",
    "    if a==0:\n",
    "        return 1/(1+np.exp(-x))\n",
    "    if a==1:\n",
    "        return np.tanh(x)\n",
    "    if a==2:\n",
    "        return max(0,x)\n",
    "class Neuron:\n",
    "    def __init__(self, weights, bias):\n",
    "        self.weights = weights\n",
    "        self.bias = bias\n",
    "    def feedforward (self, inputs):\n",
    "        total = np.dot(self.weights, inputs) + self.bias\n",
    "        return act_func(total)\n",
    "class NeuralNetwork:\n",
    "    def __init__ (self):\n",
    "        weights = np.array([0.5,0.5,0.5])\n",
    "        bias = 0\n",
    "        self.h1 = Neuron(weights, bias)\n",
    "        self.h2 = Neuron(weights, bias)\n",
    "        self.h3 = Neuron(weights, bias)\n",
    "        self.o1 = Neuron(weights, bias)\n",
    "    def feedforward (self, x):\n",
    "        out_h1 = self.h1.feedforward (x)\n",
    "        out_h2 = self.h2.feedforward(x)\n",
    "        out_h3 = self.h3.feedforward(x)\n",
    "        out_o1 = self.o1.feedforward(np.array([out_h1, out_h2,out_h3]))\n",
    "        return out_o1\n",
    "    # 0 - sig, 1 - tanh, 2 - ReLU\n",
    "a = 0\n",
    "print('0 - sig, 1 - tanh, 2 - ReLU')\n",
    "for a in range(3):\n",
    "    network = NeuralNetwork()\n",
    "    x = np.array([2, 3, 4])\n",
    "    print(f'{a} : {network.feedforward(x)}') "
   ],
   "metadata": {
    "collapsed": false,
    "ExecuteTime": {
     "end_time": "2024-04-18T06:50:50.452875Z",
     "start_time": "2024-04-18T06:50:50.443485Z"
    }
   },
   "id": "56b042810851c710",
   "execution_count": 17
  },
  {
   "cell_type": "markdown",
   "source": [
    "Используйте классы MLPClassified и MLPRegressor для классификации и\n",
    "регрессии произвольных данных из интернета. Проведите анализ\n",
    "атрибуты, полученных моделей.\n",
    "Для классификации можете взять набор данных Ирисов:\n",
    "https://gist.githubusercontent.com/netj/8836201/raw/6f9306ad21398ea43cba4f\n",
    "7d537619d0e07d5ae3/iris.csv\n",
    "а для регрессии датасет зависимости заработной платы от опыта работы:\n",
    "https://raw.githubusercontent.com/AnnaShestova/salary-years-simple-linear-\n",
    "regression/master/Salary_Data.csv"
   ],
   "metadata": {
    "collapsed": false
   },
   "id": "65e5b8e7da1e8c63"
  },
  {
   "cell_type": "code",
   "outputs": [
    {
     "data": {
      "text/plain": "<Figure size 400x400 with 2 Axes>",
      "image/png": "[encoded data removed]"
     },
     "metadata": {},
     "output_type": "display_data"
    },
    {
     "name": "stdout",
     "output_type": "stream",
     "text": [
      "Classification Report:\n",
      "              precision    recall  f1-score   support\n",
      "\n",
      "           0       1.00      1.00      1.00        10\n",
      "           1       1.00      1.00      1.00         9\n",
      "           2       1.00      1.00      1.00        11\n",
      "\n",
      "    accuracy                           1.00        30\n",
      "   macro avg       1.00      1.00      1.00        30\n",
      "weighted avg       1.00      1.00      1.00        30\n",
      "\n",
      "Loss :  0.06417233963307187\n",
      "Number of Coefs :  2\n",
      "Number of Intercepts :  2\n",
      "Number of Iterations for Which Estimator Ran :  490\n",
      "Name of Output Layer Activation Function :  softmax\n"
     ]
    }
   ],
   "source": [
    "import numpy as np\n",
    "import matplotlib.pyplot as plt\n",
    "from sklearn.metrics import confusion_matrix, classification_report\n",
    "from sklearn.model_selection import train_test_split\n",
    "from sklearn.neural_network import MLPClassifier\n",
    "from sklearn.datasets import load_iris\n",
    "\n",
    "# Загрузка данных\n",
    "iris = load_iris()\n",
    "X = iris.data\n",
    "y = iris.target\n",
    "\n",
    "# Разделение данных на обучающий и тестовый наборы\n",
    "X_train, X_test, y_train, y_test = train_test_split(X, y, test_size=0.2, random_state=42)\n",
    "\n",
    "# Создание и обучение модели\n",
    "mlp_classifier = MLPClassifier(hidden_layer_sizes=(100,), max_iter=1000)\n",
    "mlp_classifier.fit(X_train, y_train)\n",
    "\n",
    "# Предсказание на тестовом наборе\n",
    "y_pred = mlp_classifier.predict(X_test)\n",
    "\n",
    "# Вывод матрицы ошибок\n",
    "def plot_confusion_matrix(Y_test, Y_preds):\n",
    "    conf_mat = confusion_matrix(Y_test, Y_preds)\n",
    "    fig = plt.figure(figsize=(4, 4))\n",
    "    plt.matshow(conf_mat, cmap=plt.cm.Blues, fignum=1)\n",
    "    plt.xticks(range(conf_mat.shape[1]), range(conf_mat.shape[1]))\n",
    "    plt.yticks(range(conf_mat.shape[0]), range(conf_mat.shape[0]))\n",
    "    plt.colorbar()\n",
    "    for i in range(conf_mat.shape[0]):\n",
    "        for j in range(conf_mat.shape[1]):\n",
    "            plt.text(j, i, str(conf_mat[i, j]), color='red', ha='center', va='center')\n",
    "\n",
    "\n",
    "# Вывод матрицы ошибок\n",
    "plot_confusion_matrix(y_test, y_pred)\n",
    "plt.show()\n",
    "print(\"Classification Report:\")\n",
    "print(classification_report(y_test, y_pred))\n",
    "print(\"Loss : \", mlp_classifier.loss_)\n",
    "\n",
    "print (\"Number of Coefs : \", len(mlp_classifier.coefs_))\n",
    "\n",
    "print (\"Number of Intercepts : \", len(mlp_classifier.intercepts_))\n",
    "\n",
    "print (\"Number of Iterations for Which Estimator Ran : \", mlp_classifier.n_iter_)\n",
    "\n",
    "print(\"Name of Output Layer Activation Function : \", mlp_classifier.out_activation_)"
   ],
   "metadata": {
    "collapsed": false,
    "ExecuteTime": {
     "end_time": "2024-04-18T07:03:26.194571Z",
     "start_time": "2024-04-18T07:03:25.609943Z"
    }
   },
   "id": "bb11927bd358d216",
   "execution_count": 29
  },
  {
   "cell_type": "code",
   "outputs": [
    {
     "name": "stdout",
     "output_type": "stream",
     "text": [
      "   YearsExperience   Salary\n",
      "0              1.1  39343.0\n",
      "1              1.3  46205.0\n",
      "2              1.5  37731.0\n",
      "3              2.0  43525.0\n",
      "4              2.2  39891.0\n",
      "   Predicted Salary  Actual Salary\n",
      "0      55265.204597        54445.0\n",
      "1     126554.559194       121872.0\n",
      "2      52335.805222        56642.0\n",
      "3     116782.591474       116969.0\n",
      "4      55265.204597        64445.0\n",
      "5     117759.057933       112635.0\n",
      "Mean Squared Error: 25283628.521064788\n"
     ]
    },
    {
     "data": {
      "text/plain": "<Figure size 640x480 with 1 Axes>",
      "image/png": "[encoded data removed]"
     },
     "metadata": {},
     "output_type": "display_data"
    },
    {
     "name": "stdout",
     "output_type": "stream",
     "text": [
      "Loss :  16873681.689960096\n",
      "Number of Coefs :  2\n",
      "Number of Intercepts :  2\n",
      "Number of Iterations for Which Estimator Ran :  30344\n",
      "Name of Output Layer Activation Function :  identity\n"
     ]
    }
   ],
   "source": [
    "import pandas as pd\n",
    "import numpy as np\n",
    "import matplotlib.pyplot as plt\n",
    "from sklearn.model_selection import train_test_split\n",
    "from sklearn.neural_network import MLPRegressor\n",
    "from sklearn.metrics import mean_squared_error\n",
    "\n",
    "# Загрузка данных\n",
    "url = \"https://raw.githubusercontent.com/AnnaShestova/salary-years-simple-linear-regression/master/Salary_Data.csv\"\n",
    "data = pd.read_csv(url)\n",
    "print(data.head())\n",
    "# Разделение данных на признаки (опыт работы) и целевую переменную (заработная плата)\n",
    "X = data['YearsExperience'].values.reshape(-1, 1)\n",
    "y = data['Salary'].values\n",
    "\n",
    "# Разделение данных на обучающий и тестовый наборы\n",
    "X_train, X_test, y_train, y_test = train_test_split(X, y, test_size=0.2, random_state=123)\n",
    "\n",
    "# Создание и обучение модели\n",
    "mlp_regressor = MLPRegressor(random_state=123, max_iter=1000000)\n",
    "mlp_regressor.fit(X_train, y_train)\n",
    "\n",
    "# Предсказание на тестовом наборе\n",
    "y_pred = mlp_regressor.predict(X_test)\n",
    "df = pd.DataFrame({'Predicted Salary': y_pred[:10], 'Actual Salary': y_test[:10]})\n",
    "print(df)\n",
    "# Оценка производительности модели\n",
    "mse = mean_squared_error(y_test, y_pred)\n",
    "print(\"Mean Squared Error:\", mse)\n",
    "\n",
    "# Визуализация результатов\n",
    "plt.scatter(X_test, y_test, color='blue')\n",
    "plt.plot(X_test, y_pred, color='red')\n",
    "plt.title('Salary vs Experience (Neural Network Regression)')\n",
    "plt.xlabel('Years of Experience')\n",
    "plt.ylabel('Salary')\n",
    "plt.show()\n",
    "print(\"Loss : \", mlp_regressor.loss_)\n",
    "\n",
    "print (\"Number of Coefs : \", len(mlp_regressor.coefs_))\n",
    "\n",
    "print (\"Number of Intercepts : \", len(mlp_regressor.intercepts_))\n",
    "\n",
    "print (\"Number of Iterations for Which Estimator Ran : \", mlp_regressor.n_iter_)\n",
    "\n",
    "print(\"Name of Output Layer Activation Function : \", mlp_regressor.out_activation_)"
   ],
   "metadata": {
    "collapsed": false,
    "ExecuteTime": {
     "end_time": "2024-04-18T07:14:00.919905Z",
     "start_time": "2024-04-18T07:13:56.672879Z"
    }
   },
   "id": "1aa2e914f43a09a5",
   "execution_count": 41
  }
 ],
 "metadata": {
  "kernelspec": {
   "display_name": "Python 3",
   "language": "python",
   "name": "python3"
  },
  "language_info": {
   "codemirror_mode": {
    "name": "ipython",
    "version": 2
   },
   "file_extension": ".py",
   "mimetype": "text/x-python",
   "name": "python",
   "nbconvert_exporter": "python",
   "pygments_lexer": "ipython2",
   "version": "2.7.6"
  }
 },
 "nbformat": 4,
 "nbformat_minor": 5
}
