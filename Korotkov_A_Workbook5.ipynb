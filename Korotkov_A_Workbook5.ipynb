{
 "cells": [
  {
   "cell_type": "markdown",
   "source": [
    "Задание:\n",
    "Создайте класс по работе с тригонометрическими функциями. В классе\n",
    "должны быть реализованы функции вычисления:\n",
    "− косинуса;\n",
    "− синуса;\n",
    "− тангенса;\n",
    "− арксинуса;\n",
    "− арккосинуса;\n",
    "− арктангенса;\n",
    "− перевода из градусов в радианы."
   ],
   "metadata": {
    "collapsed": false
   },
   "id": "9e8683b0a2c274b1"
  },
  {
   "cell_type": "code",
   "outputs": [
    {
     "name": "stdout",
     "output_type": "stream",
     "text": [
      "cos 60º : 0.5000000000000001\n",
      "sin 60º : 0.8660254037844386\n",
      "tg 60º : 1.7320508075688767\n"
     ]
    }
   ],
   "source": [
    "import math\n",
    "\n",
    "class triganom:\n",
    "    def trans(a):\n",
    "        return math.radians(a)\n",
    "    def cos(a):\n",
    "        return math.cos(a)\n",
    "    def sin(a):\n",
    "        return math.sin(a)\n",
    "    def tg(a):\n",
    "        return math.tan(a)\n",
    "    def arcsin(a):\n",
    "        return math.asin(a)\n",
    "    def arccos(a):\n",
    "        return math.acos(a)\n",
    "    def arctg(a):\n",
    "        return math.atan(a)\n",
    "    \n",
    "print(\"cos 60º :\",triganom.cos(triganom.trans(60)))\n",
    "print(\"sin 60º :\",triganom.sin(triganom.trans(60)))\n",
    "print(\"tg 60º :\",triganom.tg(triganom.trans(60)))"
   ],
   "metadata": {
    "collapsed": false,
    "ExecuteTime": {
     "end_time": "2024-04-04T11:32:19.428600Z",
     "start_time": "2024-04-04T11:32:19.423568Z"
    }
   },
   "id": "5d9a0cc54d1b486f",
   "execution_count": 13
  },
  {
   "cell_type": "markdown",
   "source": [
    "Представьте дерево показанное на рисунке с использованием списка из\n",
    "списков. Выведите на печать корень дерева, а также его левое и правое\n",
    "поддеревья."
   ],
   "metadata": {
    "collapsed": false
   },
   "id": "4b4dc9c54662ee6f"
  },
  {
   "cell_type": "code",
   "outputs": [
    {
     "name": "stdout",
     "output_type": "stream",
     "text": [
      "a\n",
      "['b', ['d', 'e']]\n",
      "['c', ['f']]\n"
     ]
    }
   ],
   "source": [
    "a=['a',[['b',['d','e']],['c',['f']]]]\n",
    "print(a[0])\n",
    "print(a[1][0])\n",
    "print(a[1][1])"
   ],
   "metadata": {
    "collapsed": false,
    "ExecuteTime": {
     "end_time": "2024-04-04T12:15:41.004453Z",
     "start_time": "2024-04-04T12:15:40.986629Z"
    }
   },
   "id": "38fbbeb582b27290",
   "execution_count": 14
  },
  {
   "cell_type": "markdown",
   "source": [
    "Дан класс, описывающий бинарное дерево.\n",
    "class Tree:\n",
    "    def __init__(self, data):\n",
    "        self.left = None\n",
    "        self.right = None\n",
    "        self.data = data\n",
    "    def PrintTree(self):\n",
    "        print(self.data)\n",
    "Реализуйте в классе функцию для вставки нового элемента в дерево по\n",
    "следующим правилам:\n",
    "• Левое поддерево узла содержит только узлы со значениями меньше,\n",
    "чем значение в узле.\n",
    "• Правое поддерево узла содержит только узлы со значениями меньше,\n",
    "чем значение в узле.\n",
    "• Каждое из левого и правого поддеревьев также должно быть\n",
    "бинарным деревом поиска.\n",
    "• Не должно быть повторяющихся узлов.\n",
    "Метод вставки сравнивает значение узла с родительским узлом и решает\n",
    "куда доваить элемент (в левое или правое поддерево). Перепишите, метод\n",
    "PrintTree для печати полной версии дерева."
   ],
   "metadata": {
    "collapsed": false
   },
   "id": "48f79dea3f0b2efd"
  },
  {
   "cell_type": "code",
   "outputs": [],
   "source": [
    "class Tree:\n",
    "    def __init__(self, data):\n",
    "        self.left = None\n",
    "        self.right = None\n",
    "        self.data = data\n",
    "\n",
    "    def insert(self, data):\n",
    "        if data < self.data:\n",
    "            if self.left is None:\n",
    "                self.left = Tree(data)\n",
    "            else:\n",
    "                self.left.insert(data)\n",
    "        elif data > self.data:\n",
    "            if self.right is None:\n",
    "                self.right = Tree(data)\n",
    "            else:\n",
    "                self.right.insert(data)\n",
    "\n",
    "    def PrintTree(self, level=0):\n",
    "        if self.right:\n",
    "            self.right.PrintTree(level + 1)\n",
    "        print(\" \" * 4 * level + \"->\", self.data)\n",
    "        if self.left:\n",
    "            self.left.PrintTree(level + 1)\n",
    "\n",
    "root = Tree(5)\n",
    "root.insert(3)\n",
    "root.insert(7)\n",
    "root.insert(2)\n",
    "root.insert(4)\n",
    "root.insert(6)\n",
    "root.insert(8)\n",
    "\n",
    "root.PrintTree()"
   ],
   "metadata": {
    "collapsed": false,
    "is_executing": true
   },
   "id": "ce351077e46f73d9",
   "execution_count": null
  },
  {
   "cell_type": "markdown",
   "source": [
    "Постройте классификатор на основе дерева принятия решений\n",
    "следующего датасета:\n",
    "X = np.array([[1,-1], [-2,-1], [-3,-2], [1,1], [2,1], [3,2]])\n",
    "target = [0,0,0,1,1,1]"
   ],
   "metadata": {
    "collapsed": false
   },
   "id": "fe99769fd3c9bbfd"
  },
  {
   "cell_type": "code",
   "outputs": [
    {
     "name": "stdout",
     "output_type": "stream",
     "text": [
      "|--- feature_2 <= 0.00\n",
      "|   |--- class: 0\n",
      "|--- feature_2 >  0.00\n",
      "|   |--- class: 1\n",
      "\n",
      "Predictions: [0 1]\n"
     ]
    }
   ],
   "source": [
    "from sklearn.tree import DecisionTreeClassifier, export_text\n",
    "import numpy as np\n",
    "\n",
    "X = np.array([[1,-1], [-2,-1], [-3,-2], [1,1], [2,1], [3,2]])\n",
    "target = [0, 0, 0, 1, 1, 1]\n",
    "\n",
    "\n",
    "clf = DecisionTreeClassifier()\n",
    "clf.fit(X, target)\n",
    "tree_rules = export_text(clf, feature_names=[\"feature_1\", \"feature_2\"])\n",
    "print(tree_rules)\n",
    "\n",
    "new_data = np.array([[0, 0], [4, 4]])\n",
    "predictions = clf.predict(new_data)\n",
    "print(\"Predictions:\", predictions)"
   ],
   "metadata": {
    "collapsed": false,
    "ExecuteTime": {
     "end_time": "2024-04-17T12:33:59.444219Z",
     "start_time": "2024-04-17T12:33:59.425116Z"
    }
   },
   "id": "161aff5069eae561",
   "execution_count": 25
  },
  {
   "cell_type": "markdown",
   "source": [
    "Задание. Постройте модель регрессии для данных из предыдущей рабочей\n",
    "тетради.Для примера можно взять потребления газа (в миллионах\n",
    "галлонов) в 48 штатах США или набор данных о качестве красного вина:\n",
    "https://raw.githubusercontent.com/likarajo/petrol_consumption/master/data/pet\n",
    "rol_consumption.csv\n",
    "https://raw.githubusercontent.com/aniruddhachoudhury/Red-Wine-\n",
    "Quality/master/winequality-red.csv\n",
    "Постройте прогноз. Оцените точность модели."
   ],
   "metadata": {
    "collapsed": false
   },
   "id": "5979ffd12beeede4"
  },
  {
   "cell_type": "markdown",
   "source": [],
   "metadata": {
    "collapsed": false
   },
   "id": "fb5a560fdf66aae2"
  },
  {
   "cell_type": "code",
   "outputs": [
    {
     "name": "stdout",
     "output_type": "stream",
     "text": [
      "Mean Squared Error: 17347.7\n",
      "Mean Absolute Error: 94.3\n",
      "    Actual  Predicted\n",
      "27     631      603.0\n",
      "40     587      632.0\n",
      "26     577      580.0\n",
      "43     591      714.0\n",
      "24     460      510.0\n"
     ]
    }
   ],
   "source": [
    "import pandas as pd\n",
    "import numpy as np\n",
    "from sklearn.model_selection import train_test_split\n",
    "from sklearn.tree import DecisionTreeRegressor\n",
    "from sklearn.metrics import mean_squared_error, mean_absolute_error\n",
    "import matplotlib.pyplot as plt\n",
    "\n",
    "# Загрузим данные\n",
    "url = \"https://raw.githubusercontent.com/likarajo/petrol_consumption/master/data/petrol_consumption.csv\"\n",
    "data = pd.read_csv(url)\n",
    "\n",
    "\n",
    "X = data.drop('Petrol_Consumption', axis=1)\n",
    "y = data['Petrol_Consumption']\n",
    "\n",
    "\n",
    "X_train, X_test, y_train, y_test = train_test_split(X, y, test_size=0.2, random_state=42)\n",
    "\n",
    "\n",
    "model = DecisionTreeRegressor(random_state=42)\n",
    "model.fit(X_train, y_train)\n",
    "\n",
    "\n",
    "y_pred = model.predict(X_test)\n",
    "\n",
    "\n",
    "mse = mean_squared_error(y_test, y_pred)\n",
    "mae = mean_absolute_error(y_test, y_pred)\n",
    "print(\"Mean Squared Error:\", mse)\n",
    "print(\"Mean Absolute Error:\", mae)\n",
    "\n",
    "\n",
    "comparison = pd.DataFrame({'Actual': y_test, 'Predicted': y_pred})\n",
    "print(comparison.head(5))\n"
   ],
   "metadata": {
    "collapsed": false,
    "ExecuteTime": {
     "end_time": "2024-04-17T13:00:54.527684Z",
     "start_time": "2024-04-17T13:00:54.233428Z"
    }
   },
   "id": "c68617ffea316b56",
   "execution_count": 31
  }
 ],
 "metadata": {
  "kernelspec": {
   "display_name": "Python 3",
   "language": "python",
   "name": "python3"
  },
  "language_info": {
   "codemirror_mode": {
    "name": "ipython",
    "version": 2
   },
   "file_extension": ".py",
   "mimetype": "text/x-python",
   "name": "python",
   "nbconvert_exporter": "python",
   "pygments_lexer": "ipython2",
   "version": "2.7.6"
  }
 },
 "nbformat": 4,
 "nbformat_minor": 5
}
